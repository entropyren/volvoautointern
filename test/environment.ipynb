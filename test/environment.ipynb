{
  "nbformat": 4,
  "nbformat_minor": 0,
  "metadata": {
    "colab": {
      "provenance": [],
      "authorship_tag": "ABX9TyPax4aPNUghZfY3VgpND1lJ",
      "include_colab_link": true
    },
    "kernelspec": {
      "name": "python3",
      "display_name": "Python 3"
    },
    "language_info": {
      "name": "python"
    }
  },
  "cells": [
    {
      "cell_type": "markdown",
      "metadata": {
        "id": "view-in-github",
        "colab_type": "text"
      },
      "source": [
        "<a href=\"https://colab.research.google.com/github/entropyren/volvoautointern/blob/main/environment.ipynb\" target=\"_parent\"><img src=\"https://colab.research.google.com/assets/colab-badge.svg\" alt=\"Open In Colab\"/></a>"
      ]
    },
    {
      "cell_type": "markdown",
      "source": [
        "需要用到的仓库"
      ],
      "metadata": {
        "id": "VyihCrmWG9K2"
      }
    },
    {
      "cell_type": "code",
      "execution_count": null,
      "metadata": {
        "id": "lY2qblosGsGx"
      },
      "outputs": [],
      "source": [
        "!git clone https://github.com/ultralytics/yolov5"
      ]
    },
    {
      "cell_type": "code",
      "source": [
        "!git clone https://github.com/Buster-maker/plate # clone"
      ],
      "metadata": {
        "id": "nM9b20-5H7tz"
      },
      "execution_count": null,
      "outputs": []
    },
    {
      "cell_type": "code",
      "source": [
        "!git clone https://github.com/entropyren/volvoautointern"
      ],
      "metadata": {
        "id": "rj3n-N3LIBiN"
      },
      "execution_count": null,
      "outputs": []
    },
    {
      "cell_type": "code",
      "source": [
        "#获取连接谷歌网盘里的数据\n",
        "from google.colab import drive\n",
        "drive.mount('/content/drive')"
      ],
      "metadata": {
        "id": "poqw3xkcJJ9I"
      },
      "execution_count": null,
      "outputs": []
    },
    {
      "cell_type": "markdown",
      "source": [
        "yolo需要的环境"
      ],
      "metadata": {
        "id": "bNgWzMyfIEtL"
      }
    },
    {
      "cell_type": "code",
      "source": [
        "%cd yolov5\n",
        "%pip install -qr requirements.txt comet_ml  # install"
      ],
      "metadata": {
        "id": "2QD94LV6HLWJ"
      },
      "execution_count": null,
      "outputs": []
    },
    {
      "cell_type": "code",
      "source": [
        "import torch\n",
        "import utils\n",
        "display = utils.notebook_init()  # checks"
      ],
      "metadata": {
        "id": "6gE9vy_BHQx1"
      },
      "execution_count": null,
      "outputs": []
    },
    {
      "cell_type": "markdown",
      "source": [
        "OCR需要用到的环境"
      ],
      "metadata": {
        "id": "O4kf2kJMIMh5"
      }
    },
    {
      "cell_type": "code",
      "source": [
        "!pip install opencv-python matplotlib"
      ],
      "metadata": {
        "id": "NQxc8lt6HktF"
      },
      "execution_count": null,
      "outputs": []
    },
    {
      "cell_type": "code",
      "source": [
        "#OCR\n",
        "!sudo apt-get install tesseract-ocr"
      ],
      "metadata": {
        "id": "o2QWTPgZHoR1"
      },
      "execution_count": null,
      "outputs": []
    },
    {
      "cell_type": "code",
      "source": [
        "!pip install pytesseract"
      ],
      "metadata": {
        "id": "vS85sj7GHtta"
      },
      "execution_count": null,
      "outputs": []
    },
    {
      "cell_type": "markdown",
      "source": [
        "GUI"
      ],
      "metadata": {
        "id": "CMK2moRsIYLk"
      }
    },
    {
      "cell_type": "code",
      "source": [
        "!pip install ipywidgets"
      ],
      "metadata": {
        "id": "OD8GxyB_Ia5X"
      },
      "execution_count": null,
      "outputs": []
    }
  ]
}
